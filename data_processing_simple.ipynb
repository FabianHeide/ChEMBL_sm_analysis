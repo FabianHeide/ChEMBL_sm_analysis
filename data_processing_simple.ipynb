{
 "cells": [
  {
   "cell_type": "code",
   "execution_count": 1,
   "id": "0c3cba89",
   "metadata": {},
   "outputs": [],
   "source": [
    "import numpy as np\n",
    "import pandas as pd\n",
    "from rdkit import Chem, RDLogger\n",
    "from rdkit.Chem import Descriptors, Lipinski, Crippen, rdMolDescriptors\n",
    "\n",
    "pd.set_option('display.max_columns', None)\n",
    "#pd.set_option('display.max_rows', None)"
   ]
  },
  {
   "cell_type": "markdown",
   "id": "493536b8",
   "metadata": {},
   "source": [
    "## Read data, perform some general cleaning and set up small molecule dataset"
   ]
  },
  {
   "cell_type": "code",
   "execution_count": 2,
   "id": "7707793a",
   "metadata": {},
   "outputs": [],
   "source": [
    "df1 = pd.read_csv('data/sm_data.csv', sep='\";\"', engine='python')\n",
    "df1.rename({'\"ChEMBL ID':'ChEMBL ID'}, axis=1, inplace=True)\n",
    "df1.rename({'Inchi Key\"':'InChI Key'}, axis=1, inplace=True)\n",
    "df1.rename({'Smiles':'SMILES'}, axis=1, inplace=True)\n",
    "\n",
    "df1['ChEMBL ID'] = df1['ChEMBL ID'].str[1:]\n",
    "df1['InChI Key'] = df1['InChI Key'].str[:-1]"
   ]
  },
  {
   "cell_type": "code",
   "execution_count": 3,
   "id": "9bb30658",
   "metadata": {},
   "outputs": [
    {
     "data": {
      "text/plain": [
       "Index(['ChEMBL ID', 'Name', 'Synonyms', 'Type', 'Max Phase',\n",
       "       'Molecular Weight', 'Targets', 'Bioactivities', 'AlogP',\n",
       "       'Polar Surface Area', 'HBA', 'HBD', '#RO5 Violations',\n",
       "       '#Rotatable Bonds', 'Passes Ro3', 'QED Weighted', 'CX Acidic pKa',\n",
       "       'CX Basic pKa', 'CX LogP', 'CX LogD', 'Aromatic Rings',\n",
       "       'Structure Type', 'Inorganic Flag', 'Heavy Atoms', 'HBA (Lipinski)',\n",
       "       'HBD (Lipinski)', '#RO5 Violations (Lipinski)',\n",
       "       'Molecular Weight (Monoisotopic)', 'Np Likeness Score',\n",
       "       'Molecular Species', 'Molecular Formula', 'SMILES', 'InChI Key'],\n",
       "      dtype='object')"
      ]
     },
     "execution_count": 3,
     "metadata": {},
     "output_type": "execute_result"
    }
   ],
   "source": [
    "df1.columns"
   ]
  },
  {
   "cell_type": "code",
   "execution_count": 4,
   "id": "19d4f53e",
   "metadata": {},
   "outputs": [],
   "source": [
    "#select important columns for data processing and analysis\n",
    "subset1 = ['ChEMBL ID', 'InChI Key', 'Name', 'SMILES', 'Type', 'Max Phase', 'Targets', 'Bioactivities']\n",
    "\n",
    "df2 = df1[subset1]\n",
    "df2 = df2[df2['SMILES'].notna()]\n",
    "df2.reset_index(drop=True, inplace=True)\n",
    "df2[['Targets','Bioactivities']] = df2[['Targets','Bioactivities']].fillna(0)"
   ]
  },
  {
   "cell_type": "code",
   "execution_count": 5,
   "id": "2988c60b",
   "metadata": {},
   "outputs": [
    {
     "data": {
      "text/plain": [
       "array(['Small molecule', 'Protein', 'Oligosaccharide', 'Unknown',\n",
       "       'Oligonucleotide', 'Antibody'], dtype=object)"
      ]
     },
     "execution_count": 5,
     "metadata": {},
     "output_type": "execute_result"
    }
   ],
   "source": [
    "df2['Type'].unique()"
   ]
  },
  {
   "cell_type": "code",
   "execution_count": 6,
   "id": "27dafb81",
   "metadata": {},
   "outputs": [],
   "source": [
    "#select small molecules only and reset index\n",
    "df3 = df2.loc[df2['Type']=='Small molecule']\n",
    "df3.reset_index(drop=True, inplace=True)"
   ]
  },
  {
   "cell_type": "markdown",
   "id": "0bd98572",
   "metadata": {},
   "source": [
    "## Calculate molecular features based on SMILES code"
   ]
  },
  {
   "cell_type": "code",
   "execution_count": 7,
   "id": "a82498a8",
   "metadata": {},
   "outputs": [],
   "source": [
    "#function that calculates molecular features based on a SMILES line code\n",
    "def features(smiles, verbose=False):\n",
    "    \n",
    "    #disable warnings, use with caution\n",
    "    RDLogger.DisableLog('rdApp.*')\n",
    "    \n",
    "    try:\n",
    "        molecule_data= []\n",
    "        \n",
    "        for element in smiles:\n",
    "            mol=Chem.MolFromSmiles(element)\n",
    "            molecule_data.append(mol)\n",
    "            \n",
    "\n",
    "        baseData= np.arange(1,1)\n",
    "        i=0  \n",
    "        for mol in molecule_data:        \n",
    "\n",
    "            parameter_MolWt = Descriptors.MolWt(mol)\n",
    "            parameter_MolLogP = Descriptors.MolLogP(mol)\n",
    "            parameter_MolMR = Crippen.MolMR(mol)\n",
    "            parameter_NumHDonors = Lipinski.NumHDonors(mol)\n",
    "            parameter_NumHAcceptors = Lipinski.NumHAcceptors(mol)\n",
    "            parameter_TPSA = rdMolDescriptors.CalcTPSA(mol)\n",
    "            parameter_HeavyAtomCount = Lipinski.HeavyAtomCount(mol)\n",
    "            parameter_NumAromaticRings = Lipinski.NumAromaticRings(mol)\n",
    "            parameter_NumRotatableBonds = Lipinski.NumRotatableBonds(mol)\n",
    "            parameter_RingCount = Lipinski.RingCount(mol)\n",
    "            \n",
    "            row = np.array([parameter_MolWt,\n",
    "                            parameter_MolLogP,\n",
    "                            parameter_MolMR,\n",
    "                            parameter_NumHDonors,\n",
    "                            parameter_NumHAcceptors,\n",
    "                            parameter_TPSA,\n",
    "                            parameter_HeavyAtomCount,\n",
    "                            parameter_NumAromaticRings, \n",
    "                            parameter_NumRotatableBonds,\n",
    "                            parameter_RingCount])   \n",
    "\n",
    "            if(i==0):\n",
    "                baseData=row\n",
    "            else:\n",
    "                baseData=np.vstack([baseData, row])\n",
    "            i=i+1      \n",
    "\n",
    "        columnNames=['MW','LogP','MolMR','H Donors','H Acceptors', 'TPSA',\n",
    "                     'Heavy Atom Count', 'Aromatic Rings', 'Rotatable Bonds', 'Ring Count']   \n",
    "        parameters = pd.DataFrame(data=baseData,columns=columnNames)\n",
    "        \n",
    "    except:\n",
    "        print('Check for NaN values in the smiles column')\n",
    "\n",
    "    return parameters"
   ]
  },
  {
   "cell_type": "code",
   "execution_count": 8,
   "id": "1a96a094",
   "metadata": {},
   "outputs": [],
   "source": [
    "#run features() function on SMILES codes and combine the calculated data with the existing dataset\n",
    "df_features = features(df3.SMILES)\n",
    "df_features.dropna(inplace=True)\n",
    "df4 = pd.concat([df3, df_features], axis=1)"
   ]
  },
  {
   "cell_type": "code",
   "execution_count": 9,
   "id": "4ad903d6",
   "metadata": {},
   "outputs": [],
   "source": [
    "#save dataset\n",
    "df4.to_csv('data/sm_data_features.csv', index=False)"
   ]
  },
  {
   "cell_type": "code",
   "execution_count": null,
   "id": "b0440978",
   "metadata": {},
   "outputs": [],
   "source": []
  }
 ],
 "metadata": {
  "kernelspec": {
   "display_name": "Python 3 (ipykernel)",
   "language": "python",
   "name": "python3"
  },
  "language_info": {
   "codemirror_mode": {
    "name": "ipython",
    "version": 3
   },
   "file_extension": ".py",
   "mimetype": "text/x-python",
   "name": "python",
   "nbconvert_exporter": "python",
   "pygments_lexer": "ipython3",
   "version": "3.11.2"
  }
 },
 "nbformat": 4,
 "nbformat_minor": 5
}
